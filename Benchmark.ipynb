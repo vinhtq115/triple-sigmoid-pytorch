{
  "nbformat": 4,
  "nbformat_minor": 0,
  "metadata": {
    "colab": {
      "provenance": []
    },
    "kernelspec": {
      "name": "python3",
      "display_name": "Python 3"
    },
    "language_info": {
      "name": "python"
    },
    "accelerator": "GPU",
    "gpuClass": "standard"
  },
  "cells": [
    {
      "cell_type": "code",
      "execution_count": 1,
      "metadata": {
        "id": "-_XHRtXdfWnA"
      },
      "outputs": [],
      "source": [
        "from typing import Union\n",
        "import math\n",
        "\n",
        "import torch\n",
        "import torch.nn as nn\n"
      ]
    },
    {
      "cell_type": "code",
      "source": [
        "class TripleSigmoid(nn.Module):\n",
        "    \"\"\"Triple-Sigmoid Activation Function.\n",
        "    Paper: https://ieeexplore.ieee.org/document/9833503/\n",
        "    \"\"\"\n",
        "    def __init__(\n",
        "        self,\n",
        "        w1: float = 0.005,\n",
        "        w2: float = 0.1,\n",
        "        w3: float = 0.001,\n",
        "        alpha: float = 0,\n",
        "        beta: float = 500,\n",
        "        gamma: float = 0,\n",
        "        delta: float = 1.5,\n",
        "        dtype = torch.float32,\n",
        "        device: Union[str, torch.device] = 'cpu',\n",
        "    ):\n",
        "        \"\"\"Initialize Triple-Sigmoid function.\n",
        "\n",
        "        Args:\n",
        "            w1 (float, optional): w1. Defaults to 0.005.\n",
        "            w2 (float, optional): w2. Defaults to 0.1.\n",
        "            w3 (float, optional): w3. Defaults to 0.001.\n",
        "            alpha (float, optional): alpha. Defaults to 0.\n",
        "            beta (float, optional): beta. Defaults to 500.\n",
        "            gamma (float, optional): gamma. Defaults to 0.\n",
        "            delta (float, optional): delta. Defaults to 1.5.\n",
        "            dtype (_type_, optional): dtype. Defaults to torch.float32.\n",
        "            device (Union[str, torch.device], optional): device. Defaults to 'cpu'.\n",
        "        \"\"\"\n",
        "        super().__init__()\n",
        "\n",
        "        self.dtype = dtype\n",
        "        self.device = torch.device(device)\n",
        "\n",
        "        self.w1 = torch.tensor(w1, dtype=self.dtype, device=self.device)\n",
        "        self.w2 = torch.tensor(w2, dtype=self.dtype, device=self.device)\n",
        "        self.w3 = torch.tensor(w3, dtype=self.dtype, device=self.device)\n",
        "        self.alpha = torch.tensor(alpha, dtype=self.dtype, device=self.device)\n",
        "        self.beta = torch.tensor(beta, dtype=self.dtype, device=self.device)\n",
        "\n",
        "        self.b0 = torch.tensor(delta, dtype=self.dtype, device=self.device)\n",
        "        self.b1 = torch.tensor((w2 * gamma + (w1 - w2) * alpha) / w1, dtype=self.dtype, device=self.device)\n",
        "        self.b2 = torch.tensor(gamma)\n",
        "        self.b3 = beta\n",
        "\n",
        "        _temp = math.exp(-delta)\n",
        "        self.t_beta = torch.tensor(1 / (1 + math.exp(-w2 * (beta - gamma) - delta)) - _temp / (1 + _temp), dtype=self.dtype, device=self.device)\n",
        "\n",
        "    def _calc_part(self, h: torch.Tensor, w: float, b: float) -> torch.Tensor:\n",
        "        \"\"\"Calculate `e^(-w * (h - b) - b0)`.\n",
        "\n",
        "        Args:\n",
        "            h (torch.Tensor): h\n",
        "            w (float): w\n",
        "            b (float): b\n",
        "\n",
        "        Returns:\n",
        "            torch.Tensor: Output of `e^(-w * (h - b) - b0)`\n",
        "        \"\"\"\n",
        "        return torch.exp(-w * (h - b) - self.b0)\n",
        "\n",
        "    def eq_1_1(self, h: torch.Tensor) -> torch.Tensor:\n",
        "        \"\"\"Calculate equation 1 when h < alpha.\n",
        "\n",
        "        Args:\n",
        "            h (torch.Tensor): h\n",
        "\n",
        "        Returns:\n",
        "            torch.Tensor: Output of t(h)\n",
        "        \"\"\"\n",
        "        return 1 / (1 + self._calc_part(h, self.w1, self.b1))\n",
        "\n",
        "    def eq_1_2(self, h: torch.Tensor) -> torch.Tensor:\n",
        "        \"\"\"Calculate equation 2 when alpha <= h < beta.\n",
        "\n",
        "        Args:\n",
        "            h (torch.Tensor): h\n",
        "\n",
        "        Returns:\n",
        "            torch.Tensor: Output of t(h)\n",
        "        \"\"\"\n",
        "        return 1 / (1 + self._calc_part(h, self.w2, self.b2))\n",
        "\n",
        "    def eq_1_3(self, h: torch.Tensor) -> torch.Tensor:\n",
        "        \"\"\"Calculate equation 3 when beta <= h.\n",
        "\n",
        "        Args:\n",
        "            h (torch.Tensor): h\n",
        "\n",
        "        Returns:\n",
        "            torch.Tensor: Output of t(h)\n",
        "        \"\"\"\n",
        "        _temp = self._calc_part(h, self.w3, self.b3)\n",
        "        return self.t_beta + _temp / (1 + _temp)\n",
        "\n",
        "    def forward(self, h: torch.Tensor) -> torch.Tensor:\n",
        "        \"\"\"Calculate Triple-Sigmoid.\n",
        "\n",
        "        Args:\n",
        "            h (torch.Tensor): Input\n",
        "\n",
        "        Returns:\n",
        "            torch.Tensor: Output of Triple-Sigmoid\n",
        "        \"\"\"\n",
        "        h1 = torch.where(h < self.alpha, self.eq_1_1(h), 0.)\n",
        "        h2 = torch.where(torch.logical_and(self.alpha <= h, h < self.beta), self.eq_1_2(h), 0.)\n",
        "        h3 = torch.where(self.beta <= h, self.eq_1_3(h), 0.)\n",
        "\n",
        "        return h1 + h2 + h3"
      ],
      "metadata": {
        "id": "IcKk8d3Og9td"
      },
      "execution_count": 2,
      "outputs": []
    },
    {
      "cell_type": "code",
      "source": [
        "class Net1(nn.Module):\n",
        "    def __init__(\n",
        "        self,\n",
        "        in_channels: int,\n",
        "        num_classes: int,\n",
        "        activation_layer: str,\n",
        "        input_size: int,\n",
        "        is_mnist: bool,\n",
        "        device\n",
        "    ):\n",
        "        super().__init__()\n",
        "\n",
        "        assert input_size == 28 or input_size == 32, \\\n",
        "            f'Input size {input_size} is not supported. Acceptable values: 28, 32.'\n",
        "\n",
        "        assert activation_layer in {'softmax', 'sigmoid', 'triple-sigmoid'}, \\\n",
        "            f'Only supported the following activation layers: \"softmax\", \"sigmoid\", \"triple-sigmoid\".'\n",
        "\n",
        "        self.block1 = Net1.build_block(in_channels, 32, 3, is_mnist)\n",
        "        self.block2 = Net1.build_block(32, 64, 3, is_mnist)\n",
        "        self.block3 = Net1.build_block(64, 128, 3, is_mnist)\n",
        "        self.block4 = nn.Sequential(\n",
        "            nn.Flatten(),\n",
        "            nn.Linear(1152 if input_size == 28 else 2048, 128),\n",
        "            nn.LeakyReLU(),\n",
        "            nn.BatchNorm1d(128),\n",
        "            nn.Dropout(),\n",
        "            nn.Linear(128, num_classes)\n",
        "        )\n",
        "\n",
        "        if activation_layer == 'softmax':\n",
        "            self.act = nn.Softmax()\n",
        "        elif activation_layer == 'sigmoid':\n",
        "            self.act = nn.Sigmoid()\n",
        "        else:\n",
        "            self.act = TripleSigmoid(device=device)\n",
        "\n",
        "    def forward(self, x: torch.Tensor):\n",
        "        x = self.block1(x)\n",
        "        x = self.block2(x)\n",
        "        x = self.block3(x)\n",
        "        x = self.block4(x)\n",
        "        return self.act(x)\n",
        "\n",
        "    @staticmethod\n",
        "    def build_block(\n",
        "        in_channels: int,\n",
        "        hidden_channels: int,\n",
        "        kernel_size: int,\n",
        "        exclude_batch_norm: bool\n",
        "    ) -> nn.Module:\n",
        "        \"\"\"Build block for Net 1.\n",
        "\n",
        "        Args:\n",
        "            in_channels (int): Number of input channels\n",
        "            hidden_channels (int): Number of hidden channels\n",
        "            kernel_size (int): Convolution kernel size\n",
        "            exclude_batch_norm (bool): Set to True to exclude batch normalization layer in block\n",
        "\n",
        "        Returns:\n",
        "            nn.Module: Block\n",
        "        \"\"\"\n",
        "        if exclude_batch_norm:\n",
        "            return nn.Sequential(\n",
        "                nn.Conv2d(in_channels, hidden_channels, kernel_size, padding='same'),\n",
        "                nn.LeakyReLU(),\n",
        "                nn.Conv2d(hidden_channels, hidden_channels, kernel_size, padding='same'),\n",
        "                nn.LeakyReLU(),\n",
        "                nn.MaxPool2d(2),\n",
        "                nn.Dropout()\n",
        "            )\n",
        "        else:\n",
        "            return nn.Sequential(\n",
        "                nn.Conv2d(in_channels, hidden_channels, kernel_size, padding='same'),\n",
        "                nn.LeakyReLU(),\n",
        "                nn.BatchNorm2d(hidden_channels),\n",
        "                nn.Conv2d(hidden_channels, hidden_channels, kernel_size, padding='same'),\n",
        "                nn.LeakyReLU(),\n",
        "                nn.BatchNorm2d(hidden_channels),\n",
        "                nn.MaxPool2d(2),\n",
        "                nn.Dropout()\n",
        "            )"
      ],
      "metadata": {
        "id": "1wgxo8q9fZ6N"
      },
      "execution_count": 3,
      "outputs": []
    },
    {
      "cell_type": "code",
      "source": [
        "model1 = Net1(3, 1000, 'triple-sigmoid', 32, False, 'cpu')\n",
        "model2 = Net1(3, 1000, 'triple-sigmoid', 32, False, 'cuda').to('cuda')\n",
        "model3 = Net1(3, 1000, 'triple-sigmoid', 32, False, 'cpu').to('cuda')"
      ],
      "metadata": {
        "id": "-fRPz3Xwfh7G"
      },
      "execution_count": 4,
      "outputs": []
    },
    {
      "cell_type": "code",
      "source": [
        "x = torch.rand((4, 3, 32, 32))"
      ],
      "metadata": {
        "id": "DG_xI0hJfyCC"
      },
      "execution_count": 5,
      "outputs": []
    },
    {
      "cell_type": "code",
      "source": [
        "%%timeit -r 10 -n 1000\n",
        "with torch.no_grad():\n",
        "    y = model1(x)"
      ],
      "metadata": {
        "colab": {
          "base_uri": "https://localhost:8080/"
        },
        "id": "Q3Og_jcWf0vd",
        "outputId": "40cf77b5-c1aa-414c-ee12-23653532a390"
      },
      "execution_count": 6,
      "outputs": [
        {
          "output_type": "stream",
          "name": "stdout",
          "text": [
            "9.14 ms ± 676 µs per loop (mean ± std. dev. of 10 runs, 1000 loops each)\n"
          ]
        }
      ]
    },
    {
      "cell_type": "code",
      "source": [
        "x = x.to('cuda')"
      ],
      "metadata": {
        "id": "AyYkV9cBgAgc"
      },
      "execution_count": 7,
      "outputs": []
    },
    {
      "cell_type": "code",
      "source": [
        "%%timeit -r 10 -n 1000\n",
        "with torch.no_grad():\n",
        "    y = model2(x)"
      ],
      "metadata": {
        "colab": {
          "base_uri": "https://localhost:8080/"
        },
        "id": "ZBrnpV9MgDtd",
        "outputId": "103312c0-afec-451c-a2e5-8d5df91fe206"
      },
      "execution_count": 8,
      "outputs": [
        {
          "output_type": "stream",
          "name": "stdout",
          "text": [
            "2.08 ms ± 480 µs per loop (mean ± std. dev. of 10 runs, 1000 loops each)\n"
          ]
        }
      ]
    },
    {
      "cell_type": "code",
      "source": [
        "%%timeit -r 10 -n 1000\n",
        "with torch.no_grad():\n",
        "    y = model3(x)"
      ],
      "metadata": {
        "colab": {
          "base_uri": "https://localhost:8080/"
        },
        "id": "KJHyRpOvgyiQ",
        "outputId": "55c09b8b-2fd0-471d-fd94-cee69f923185"
      },
      "execution_count": 9,
      "outputs": [
        {
          "output_type": "stream",
          "name": "stdout",
          "text": [
            "1.94 ms ± 153 µs per loop (mean ± std. dev. of 10 runs, 1000 loops each)\n"
          ]
        }
      ]
    },
    {
      "cell_type": "code",
      "source": [],
      "metadata": {
        "id": "iErWeX4YhIpX"
      },
      "execution_count": 9,
      "outputs": []
    }
  ]
}